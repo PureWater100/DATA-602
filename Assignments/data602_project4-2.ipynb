{
  "nbformat": 4,
  "nbformat_minor": 0,
  "metadata": {
    "colab": {
      "name": "data602_project4.ipynb",
      "provenance": [],
      "collapsed_sections": []
    },
    "kernelspec": {
      "name": "python3",
      "display_name": "Python 3"
    },
    "language_info": {
      "name": "python"
    }
  },
  "cells": [
    {
      "cell_type": "markdown",
      "source": [
        "# Project 4. KNN, Logistic Regression & Classification Model Evaluation\n",
        "Group 6: Elizabeth Cardosa, Jaydeep Radadia, Koushik Ajjuguttu, Stephanie Zhang\n",
        "\n",
        "Contributions: Each group member attempted all the problems, then we worked together as a group to determine the best solutions and resolve any questions.\n",
        " \n",
        "Assigned on Apr 11, 2022; Due on May 2, 2022\n",
        "\n",
        "In this project, you are using K-Nearest Neighbor as well as Logistic Regression Models to predict if a patient has heart disease.\n",
        "Project Description and Objective\n",
        "You will be given a dataset on heart disease diagnosis. Your goal is to build a KNN and logistic regression model to predict the likelihood of heart disease as well as the verdict. \n",
        "\n",
        "***For this project you CANNOT use existing packages to calibrate the classification evaluation metrics, confusion matrix or ROC curve. You must build your own functions for those from scratch, while you can use the sklearn to help you compute the AU(RO)C. ***"
      ],
      "metadata": {
        "id": "KmRJozsojv86"
      }
    },
    {
      "cell_type": "code",
      "source": [
        "import pandas as pd\n",
        "import numpy as np\n",
        "import seaborn as sns\n",
        "import matplotlib.pyplot as plt\n",
        "\n",
        "from sklearn.model_selection import train_test_split, KFold, GridSearchCV\n",
        "from sklearn.preprocessing import MinMaxScaler \n",
        "from sklearn.pipeline import Pipeline\n",
        "from sklearn.impute import SimpleImputer\n",
        "from sklearn.neighbors import KNeighborsClassifier\n",
        "from sklearn.linear_model import LogisticRegression\n",
        "from sklearn.metrics import recall_score, precision_score, f1_score"
      ],
      "metadata": {
        "id": "yfHWqp-_kHXs"
      },
      "execution_count": null,
      "outputs": []
    },
    {
      "cell_type": "markdown",
      "source": [
        "# Input\n",
        "You are sourcing your data from `UCI Machine Learning Repository`. https://archive-beta.ics.uci.edu/ml/datasets/heart+disease\n",
        "\n",
        "Please read the description carefully, and you are expected to use cleveland processed data. Since this is a classification exercise, please binarize the target, where 0 means no condition, and not 0 means heart condition. \n"
      ],
      "metadata": {
        "id": "IedQg9urkGJk"
      }
    },
    {
      "cell_type": "markdown",
      "source": [
        "***From the Source:***\n",
        "\n",
        "This database contains 76 attributes, but all published experiments refer to using a subset of 14 of them. In particular, the Cleveland database is the only one that has been used by ML researchers to this date. The \"goal\" field refers to the presence of heart disease in the patient. It is integer valued from 0 (no presence) to 4. Experiments with the Cleveland database have concentrated on simply attempting to distinguish presence (values 1,2,3,4) from absence (value 0). The names and social security numbers of the patients were recently removed from the database, replaced with dummy values."
      ],
      "metadata": {
        "id": "X5a0Ug2qm7jj"
      }
    },
    {
      "cell_type": "markdown",
      "source": [
        " * age: age in years \n",
        "\n",
        " * sex: sex (1 = male; 0 = female) \n",
        "\n",
        " * cp: chest pain type -- Value 1: typical angina -- Value 2: \n",
        "atypical angina -- Value 3: non-anginal pain -- Value 4: asymptomatic \n",
        "\n",
        " * trestbps: resting blood pressure (in mm Hg on admission to the hospital) \n",
        "\n",
        " * chol: serum cholestoral in mg/dl \n",
        "\n",
        " * fbs: (fasting blood sugar > 120 mg/dl) (1 = true; 0 = false)   \n",
        "\n",
        " * restecg: resting electrocardiographic results -- Value 0: normal -- Value 1: having ST-T wave abnormality (T wave inversions and/or ST elevation or depression of > 0.05 mV) -- Value 2: showing probable or definite left ventricular hypertrophy by Estes' criteria \n",
        "\n",
        " * thalach: maximum heart rate achieved \n",
        "\n",
        " * exang: exercise induced angina (1 = yes; 0 = no) \n",
        "\n",
        " * oldpeak = ST depression induced by exercise relative to rest \n",
        "\n",
        " * slope: the slope of the peak exercise ST segment -- Value 1: upsloping -- Value 2: flat -- Value 3: downsloping \n",
        "\n",
        " * ca: number of major vessels (0-3) colored by flourosopy \n",
        "\n",
        " * thal: 3 = normal; 6 = fixed defect; 7 = reversable defect \n",
        "\n",
        " * num: diagnosis of heart disease (angiographic disease status) -- Value 0: < 50% diameter narrowing -- Value 1: > 50% diameter narrowing "
      ],
      "metadata": {
        "id": "aNhWJSf-ocbV"
      }
    },
    {
      "cell_type": "markdown",
      "source": [
        "# Output\n"
      ],
      "metadata": {
        "id": "KD7TG0mGkRJP"
      }
    },
    {
      "cell_type": "markdown",
      "source": [
        "## 1) Describe and Understand the data. (10pts)\n",
        "* Read through the data description, properly label your data so that others can also understand the data you are working with. \n",
        "* Train-test split, stratified by the target. Please choose 80% / 20% allocation. \n"
      ],
      "metadata": {
        "id": "mviz7SWpkWaN"
      }
    },
    {
      "cell_type": "markdown",
      "source": [
        "### Read in the data"
      ],
      "metadata": {
        "id": "OGHJM53ErPG1"
      }
    },
    {
      "cell_type": "code",
      "source": [
        "cols = ['age','sex','cp','trestbps','chol','fbs','restecg','thalach','exang','oldpeak','slope','ca','thal','num']"
      ],
      "metadata": {
        "id": "s-k67iR0m0NA"
      },
      "execution_count": null,
      "outputs": []
    },
    {
      "cell_type": "code",
      "source": [
        "df = pd.read_csv('https://archive.ics.uci.edu/ml/machine-learning-databases/heart-disease/processed.cleveland.data', \n",
        "                 header=None, names=cols)"
      ],
      "metadata": {
        "id": "okt2AjQnkQ4g"
      },
      "execution_count": null,
      "outputs": []
    },
    {
      "cell_type": "code",
      "source": [
        "# Update to more intuitive column names\n",
        "df.columns = ['Age', 'Sex', 'Chest_pain_type', 'Rest_bp', 'Cholestrol',\n",
        "           'Blood_Sugar', 'Rest_ECG', 'Max_Heart_Rate',\n",
        "           'Exe_ind_anigma', 'Exe_ind_dep', 'Slo',\n",
        "           'Major_blood_vessels', 'Thal', 'Diag_Res']"
      ],
      "metadata": {
        "id": "1AyHq0hDBYcN"
      },
      "execution_count": null,
      "outputs": []
    },
    {
      "cell_type": "code",
      "source": [
        "df"
      ],
      "metadata": {
        "colab": {
          "base_uri": "https://localhost:8080/",
          "height": 423
        },
        "id": "BgI2UEusmcpZ",
        "outputId": "afe58264-1f0c-4093-fa41-56b7507c0531"
      },
      "execution_count": null,
      "outputs": [
        {
          "output_type": "execute_result",
          "data": {
            "text/plain": [
              "      Age  Sex  Chest_pain_type  Rest_bp  Cholestrol  Blood_Sugar  Rest_ECG  \\\n",
              "0    63.0  1.0              1.0    145.0       233.0          1.0       2.0   \n",
              "1    67.0  1.0              4.0    160.0       286.0          0.0       2.0   \n",
              "2    67.0  1.0              4.0    120.0       229.0          0.0       2.0   \n",
              "3    37.0  1.0              3.0    130.0       250.0          0.0       0.0   \n",
              "4    41.0  0.0              2.0    130.0       204.0          0.0       2.0   \n",
              "..    ...  ...              ...      ...         ...          ...       ...   \n",
              "298  45.0  1.0              1.0    110.0       264.0          0.0       0.0   \n",
              "299  68.0  1.0              4.0    144.0       193.0          1.0       0.0   \n",
              "300  57.0  1.0              4.0    130.0       131.0          0.0       0.0   \n",
              "301  57.0  0.0              2.0    130.0       236.0          0.0       2.0   \n",
              "302  38.0  1.0              3.0    138.0       175.0          0.0       0.0   \n",
              "\n",
              "     Max_Heart_Rate  Exe_ind_anigma  Exe_ind_dep  Slo Major_blood_vessels  \\\n",
              "0             150.0             0.0          2.3  3.0                 0.0   \n",
              "1             108.0             1.0          1.5  2.0                 3.0   \n",
              "2             129.0             1.0          2.6  2.0                 2.0   \n",
              "3             187.0             0.0          3.5  3.0                 0.0   \n",
              "4             172.0             0.0          1.4  1.0                 0.0   \n",
              "..              ...             ...          ...  ...                 ...   \n",
              "298           132.0             0.0          1.2  2.0                 0.0   \n",
              "299           141.0             0.0          3.4  2.0                 2.0   \n",
              "300           115.0             1.0          1.2  2.0                 1.0   \n",
              "301           174.0             0.0          0.0  2.0                 1.0   \n",
              "302           173.0             0.0          0.0  1.0                   ?   \n",
              "\n",
              "    Thal  Diag_Res  \n",
              "0    6.0         0  \n",
              "1    3.0         2  \n",
              "2    7.0         1  \n",
              "3    3.0         0  \n",
              "4    3.0         0  \n",
              "..   ...       ...  \n",
              "298  7.0         1  \n",
              "299  7.0         2  \n",
              "300  7.0         3  \n",
              "301  3.0         1  \n",
              "302  3.0         0  \n",
              "\n",
              "[303 rows x 14 columns]"
            ],
            "text/html": [
              "\n",
              "  <div id=\"df-31fa4dd9-9090-42fe-bf95-309478af49b7\">\n",
              "    <div class=\"colab-df-container\">\n",
              "      <div>\n",
              "<style scoped>\n",
              "    .dataframe tbody tr th:only-of-type {\n",
              "        vertical-align: middle;\n",
              "    }\n",
              "\n",
              "    .dataframe tbody tr th {\n",
              "        vertical-align: top;\n",
              "    }\n",
              "\n",
              "    .dataframe thead th {\n",
              "        text-align: right;\n",
              "    }\n",
              "</style>\n",
              "<table border=\"1\" class=\"dataframe\">\n",
              "  <thead>\n",
              "    <tr style=\"text-align: right;\">\n",
              "      <th></th>\n",
              "      <th>Age</th>\n",
              "      <th>Sex</th>\n",
              "      <th>Chest_pain_type</th>\n",
              "      <th>Rest_bp</th>\n",
              "      <th>Cholestrol</th>\n",
              "      <th>Blood_Sugar</th>\n",
              "      <th>Rest_ECG</th>\n",
              "      <th>Max_Heart_Rate</th>\n",
              "      <th>Exe_ind_anigma</th>\n",
              "      <th>Exe_ind_dep</th>\n",
              "      <th>Slo</th>\n",
              "      <th>Major_blood_vessels</th>\n",
              "      <th>Thal</th>\n",
              "      <th>Diag_Res</th>\n",
              "    </tr>\n",
              "  </thead>\n",
              "  <tbody>\n",
              "    <tr>\n",
              "      <th>0</th>\n",
              "      <td>63.0</td>\n",
              "      <td>1.0</td>\n",
              "      <td>1.0</td>\n",
              "      <td>145.0</td>\n",
              "      <td>233.0</td>\n",
              "      <td>1.0</td>\n",
              "      <td>2.0</td>\n",
              "      <td>150.0</td>\n",
              "      <td>0.0</td>\n",
              "      <td>2.3</td>\n",
              "      <td>3.0</td>\n",
              "      <td>0.0</td>\n",
              "      <td>6.0</td>\n",
              "      <td>0</td>\n",
              "    </tr>\n",
              "    <tr>\n",
              "      <th>1</th>\n",
              "      <td>67.0</td>\n",
              "      <td>1.0</td>\n",
              "      <td>4.0</td>\n",
              "      <td>160.0</td>\n",
              "      <td>286.0</td>\n",
              "      <td>0.0</td>\n",
              "      <td>2.0</td>\n",
              "      <td>108.0</td>\n",
              "      <td>1.0</td>\n",
              "      <td>1.5</td>\n",
              "      <td>2.0</td>\n",
              "      <td>3.0</td>\n",
              "      <td>3.0</td>\n",
              "      <td>2</td>\n",
              "    </tr>\n",
              "    <tr>\n",
              "      <th>2</th>\n",
              "      <td>67.0</td>\n",
              "      <td>1.0</td>\n",
              "      <td>4.0</td>\n",
              "      <td>120.0</td>\n",
              "      <td>229.0</td>\n",
              "      <td>0.0</td>\n",
              "      <td>2.0</td>\n",
              "      <td>129.0</td>\n",
              "      <td>1.0</td>\n",
              "      <td>2.6</td>\n",
              "      <td>2.0</td>\n",
              "      <td>2.0</td>\n",
              "      <td>7.0</td>\n",
              "      <td>1</td>\n",
              "    </tr>\n",
              "    <tr>\n",
              "      <th>3</th>\n",
              "      <td>37.0</td>\n",
              "      <td>1.0</td>\n",
              "      <td>3.0</td>\n",
              "      <td>130.0</td>\n",
              "      <td>250.0</td>\n",
              "      <td>0.0</td>\n",
              "      <td>0.0</td>\n",
              "      <td>187.0</td>\n",
              "      <td>0.0</td>\n",
              "      <td>3.5</td>\n",
              "      <td>3.0</td>\n",
              "      <td>0.0</td>\n",
              "      <td>3.0</td>\n",
              "      <td>0</td>\n",
              "    </tr>\n",
              "    <tr>\n",
              "      <th>4</th>\n",
              "      <td>41.0</td>\n",
              "      <td>0.0</td>\n",
              "      <td>2.0</td>\n",
              "      <td>130.0</td>\n",
              "      <td>204.0</td>\n",
              "      <td>0.0</td>\n",
              "      <td>2.0</td>\n",
              "      <td>172.0</td>\n",
              "      <td>0.0</td>\n",
              "      <td>1.4</td>\n",
              "      <td>1.0</td>\n",
              "      <td>0.0</td>\n",
              "      <td>3.0</td>\n",
              "      <td>0</td>\n",
              "    </tr>\n",
              "    <tr>\n",
              "      <th>...</th>\n",
              "      <td>...</td>\n",
              "      <td>...</td>\n",
              "      <td>...</td>\n",
              "      <td>...</td>\n",
              "      <td>...</td>\n",
              "      <td>...</td>\n",
              "      <td>...</td>\n",
              "      <td>...</td>\n",
              "      <td>...</td>\n",
              "      <td>...</td>\n",
              "      <td>...</td>\n",
              "      <td>...</td>\n",
              "      <td>...</td>\n",
              "      <td>...</td>\n",
              "    </tr>\n",
              "    <tr>\n",
              "      <th>298</th>\n",
              "      <td>45.0</td>\n",
              "      <td>1.0</td>\n",
              "      <td>1.0</td>\n",
              "      <td>110.0</td>\n",
              "      <td>264.0</td>\n",
              "      <td>0.0</td>\n",
              "      <td>0.0</td>\n",
              "      <td>132.0</td>\n",
              "      <td>0.0</td>\n",
              "      <td>1.2</td>\n",
              "      <td>2.0</td>\n",
              "      <td>0.0</td>\n",
              "      <td>7.0</td>\n",
              "      <td>1</td>\n",
              "    </tr>\n",
              "    <tr>\n",
              "      <th>299</th>\n",
              "      <td>68.0</td>\n",
              "      <td>1.0</td>\n",
              "      <td>4.0</td>\n",
              "      <td>144.0</td>\n",
              "      <td>193.0</td>\n",
              "      <td>1.0</td>\n",
              "      <td>0.0</td>\n",
              "      <td>141.0</td>\n",
              "      <td>0.0</td>\n",
              "      <td>3.4</td>\n",
              "      <td>2.0</td>\n",
              "      <td>2.0</td>\n",
              "      <td>7.0</td>\n",
              "      <td>2</td>\n",
              "    </tr>\n",
              "    <tr>\n",
              "      <th>300</th>\n",
              "      <td>57.0</td>\n",
              "      <td>1.0</td>\n",
              "      <td>4.0</td>\n",
              "      <td>130.0</td>\n",
              "      <td>131.0</td>\n",
              "      <td>0.0</td>\n",
              "      <td>0.0</td>\n",
              "      <td>115.0</td>\n",
              "      <td>1.0</td>\n",
              "      <td>1.2</td>\n",
              "      <td>2.0</td>\n",
              "      <td>1.0</td>\n",
              "      <td>7.0</td>\n",
              "      <td>3</td>\n",
              "    </tr>\n",
              "    <tr>\n",
              "      <th>301</th>\n",
              "      <td>57.0</td>\n",
              "      <td>0.0</td>\n",
              "      <td>2.0</td>\n",
              "      <td>130.0</td>\n",
              "      <td>236.0</td>\n",
              "      <td>0.0</td>\n",
              "      <td>2.0</td>\n",
              "      <td>174.0</td>\n",
              "      <td>0.0</td>\n",
              "      <td>0.0</td>\n",
              "      <td>2.0</td>\n",
              "      <td>1.0</td>\n",
              "      <td>3.0</td>\n",
              "      <td>1</td>\n",
              "    </tr>\n",
              "    <tr>\n",
              "      <th>302</th>\n",
              "      <td>38.0</td>\n",
              "      <td>1.0</td>\n",
              "      <td>3.0</td>\n",
              "      <td>138.0</td>\n",
              "      <td>175.0</td>\n",
              "      <td>0.0</td>\n",
              "      <td>0.0</td>\n",
              "      <td>173.0</td>\n",
              "      <td>0.0</td>\n",
              "      <td>0.0</td>\n",
              "      <td>1.0</td>\n",
              "      <td>?</td>\n",
              "      <td>3.0</td>\n",
              "      <td>0</td>\n",
              "    </tr>\n",
              "  </tbody>\n",
              "</table>\n",
              "<p>303 rows × 14 columns</p>\n",
              "</div>\n",
              "      <button class=\"colab-df-convert\" onclick=\"convertToInteractive('df-31fa4dd9-9090-42fe-bf95-309478af49b7')\"\n",
              "              title=\"Convert this dataframe to an interactive table.\"\n",
              "              style=\"display:none;\">\n",
              "        \n",
              "  <svg xmlns=\"http://www.w3.org/2000/svg\" height=\"24px\"viewBox=\"0 0 24 24\"\n",
              "       width=\"24px\">\n",
              "    <path d=\"M0 0h24v24H0V0z\" fill=\"none\"/>\n",
              "    <path d=\"M18.56 5.44l.94 2.06.94-2.06 2.06-.94-2.06-.94-.94-2.06-.94 2.06-2.06.94zm-11 1L8.5 8.5l.94-2.06 2.06-.94-2.06-.94L8.5 2.5l-.94 2.06-2.06.94zm10 10l.94 2.06.94-2.06 2.06-.94-2.06-.94-.94-2.06-.94 2.06-2.06.94z\"/><path d=\"M17.41 7.96l-1.37-1.37c-.4-.4-.92-.59-1.43-.59-.52 0-1.04.2-1.43.59L10.3 9.45l-7.72 7.72c-.78.78-.78 2.05 0 2.83L4 21.41c.39.39.9.59 1.41.59.51 0 1.02-.2 1.41-.59l7.78-7.78 2.81-2.81c.8-.78.8-2.07 0-2.86zM5.41 20L4 18.59l7.72-7.72 1.47 1.35L5.41 20z\"/>\n",
              "  </svg>\n",
              "      </button>\n",
              "      \n",
              "  <style>\n",
              "    .colab-df-container {\n",
              "      display:flex;\n",
              "      flex-wrap:wrap;\n",
              "      gap: 12px;\n",
              "    }\n",
              "\n",
              "    .colab-df-convert {\n",
              "      background-color: #E8F0FE;\n",
              "      border: none;\n",
              "      border-radius: 50%;\n",
              "      cursor: pointer;\n",
              "      display: none;\n",
              "      fill: #1967D2;\n",
              "      height: 32px;\n",
              "      padding: 0 0 0 0;\n",
              "      width: 32px;\n",
              "    }\n",
              "\n",
              "    .colab-df-convert:hover {\n",
              "      background-color: #E2EBFA;\n",
              "      box-shadow: 0px 1px 2px rgba(60, 64, 67, 0.3), 0px 1px 3px 1px rgba(60, 64, 67, 0.15);\n",
              "      fill: #174EA6;\n",
              "    }\n",
              "\n",
              "    [theme=dark] .colab-df-convert {\n",
              "      background-color: #3B4455;\n",
              "      fill: #D2E3FC;\n",
              "    }\n",
              "\n",
              "    [theme=dark] .colab-df-convert:hover {\n",
              "      background-color: #434B5C;\n",
              "      box-shadow: 0px 1px 3px 1px rgba(0, 0, 0, 0.15);\n",
              "      filter: drop-shadow(0px 1px 2px rgba(0, 0, 0, 0.3));\n",
              "      fill: #FFFFFF;\n",
              "    }\n",
              "  </style>\n",
              "\n",
              "      <script>\n",
              "        const buttonEl =\n",
              "          document.querySelector('#df-31fa4dd9-9090-42fe-bf95-309478af49b7 button.colab-df-convert');\n",
              "        buttonEl.style.display =\n",
              "          google.colab.kernel.accessAllowed ? 'block' : 'none';\n",
              "\n",
              "        async function convertToInteractive(key) {\n",
              "          const element = document.querySelector('#df-31fa4dd9-9090-42fe-bf95-309478af49b7');\n",
              "          const dataTable =\n",
              "            await google.colab.kernel.invokeFunction('convertToInteractive',\n",
              "                                                     [key], {});\n",
              "          if (!dataTable) return;\n",
              "\n",
              "          const docLinkHtml = 'Like what you see? Visit the ' +\n",
              "            '<a target=\"_blank\" href=https://colab.research.google.com/notebooks/data_table.ipynb>data table notebook</a>'\n",
              "            + ' to learn more about interactive tables.';\n",
              "          element.innerHTML = '';\n",
              "          dataTable['output_type'] = 'display_data';\n",
              "          await google.colab.output.renderOutput(dataTable, element);\n",
              "          const docLink = document.createElement('div');\n",
              "          docLink.innerHTML = docLinkHtml;\n",
              "          element.appendChild(docLink);\n",
              "        }\n",
              "      </script>\n",
              "    </div>\n",
              "  </div>\n",
              "  "
            ]
          },
          "metadata": {},
          "execution_count": 5
        }
      ]
    },
    {
      "cell_type": "markdown",
      "source": [
        "### Explore Data "
      ],
      "metadata": {
        "id": "h6J6ycBlrlaf"
      }
    },
    {
      "cell_type": "code",
      "source": [
        "df.info()"
      ],
      "metadata": {
        "colab": {
          "base_uri": "https://localhost:8080/"
        },
        "id": "2WdUqgwjCCdg",
        "outputId": "fb4e9c89-2746-452c-ab80-8479fafa8206"
      },
      "execution_count": null,
      "outputs": [
        {
          "output_type": "stream",
          "name": "stdout",
          "text": [
            "<class 'pandas.core.frame.DataFrame'>\n",
            "RangeIndex: 303 entries, 0 to 302\n",
            "Data columns (total 14 columns):\n",
            " #   Column               Non-Null Count  Dtype  \n",
            "---  ------               --------------  -----  \n",
            " 0   Age                  303 non-null    float64\n",
            " 1   Sex                  303 non-null    float64\n",
            " 2   Chest_pain_type      303 non-null    float64\n",
            " 3   Rest_bp              303 non-null    float64\n",
            " 4   Cholestrol           303 non-null    float64\n",
            " 5   Blood_Sugar          303 non-null    float64\n",
            " 6   Rest_ECG             303 non-null    float64\n",
            " 7   Max_Heart_Rate       303 non-null    float64\n",
            " 8   Exe_ind_anigma       303 non-null    float64\n",
            " 9   Exe_ind_dep          303 non-null    float64\n",
            " 10  Slo                  303 non-null    float64\n",
            " 11  Major_blood_vessels  303 non-null    object \n",
            " 12  Thal                 303 non-null    object \n",
            " 13  Diag_Res             303 non-null    int64  \n",
            "dtypes: float64(11), int64(1), object(2)\n",
            "memory usage: 33.3+ KB\n"
          ]
        }
      ]
    },
    {
      "cell_type": "code",
      "source": [
        "df['Major_blood_vessels'].value_counts()"
      ],
      "metadata": {
        "colab": {
          "base_uri": "https://localhost:8080/"
        },
        "id": "ycXZrhNXCF6W",
        "outputId": "b04c0be1-9e8e-4451-c051-994e03edbc24"
      },
      "execution_count": null,
      "outputs": [
        {
          "output_type": "execute_result",
          "data": {
            "text/plain": [
              "0.0    176\n",
              "1.0     65\n",
              "2.0     38\n",
              "3.0     20\n",
              "?        4\n",
              "Name: Major_blood_vessels, dtype: int64"
            ]
          },
          "metadata": {},
          "execution_count": 7
        }
      ]
    },
    {
      "cell_type": "code",
      "source": [
        "# Replace '?' with NaN and make dtype float\n",
        "df['Major_blood_vessels'].replace('?', np.nan, inplace=True)\n",
        "df['Major_blood_vessels'] = df['Major_blood_vessels'].astype('float')"
      ],
      "metadata": {
        "id": "enK94M5bCN8a"
      },
      "execution_count": null,
      "outputs": []
    },
    {
      "cell_type": "code",
      "source": [
        "df['Thal'].value_counts()"
      ],
      "metadata": {
        "colab": {
          "base_uri": "https://localhost:8080/"
        },
        "id": "fgQLZISuCV8G",
        "outputId": "a6e5381e-5a72-4eea-a179-e48575dffd2b"
      },
      "execution_count": null,
      "outputs": [
        {
          "output_type": "execute_result",
          "data": {
            "text/plain": [
              "3.0    166\n",
              "7.0    117\n",
              "6.0     18\n",
              "?        2\n",
              "Name: Thal, dtype: int64"
            ]
          },
          "metadata": {},
          "execution_count": 9
        }
      ]
    },
    {
      "cell_type": "code",
      "source": [
        "# Replace '?' with NaN and make dtype float\n",
        "df['Thal'].replace('?', np.nan, inplace=True)\n",
        "df['Thal'] = df['Thal'].astype('float')"
      ],
      "metadata": {
        "id": "UgmR0wiYCWDc"
      },
      "execution_count": null,
      "outputs": []
    },
    {
      "cell_type": "code",
      "source": [
        "df.info()"
      ],
      "metadata": {
        "colab": {
          "base_uri": "https://localhost:8080/"
        },
        "id": "YM4ER7pxCnwe",
        "outputId": "ba3753bb-5b15-4667-b248-d8d10c2658c7"
      },
      "execution_count": null,
      "outputs": [
        {
          "output_type": "stream",
          "name": "stdout",
          "text": [
            "<class 'pandas.core.frame.DataFrame'>\n",
            "RangeIndex: 303 entries, 0 to 302\n",
            "Data columns (total 14 columns):\n",
            " #   Column               Non-Null Count  Dtype  \n",
            "---  ------               --------------  -----  \n",
            " 0   Age                  303 non-null    float64\n",
            " 1   Sex                  303 non-null    float64\n",
            " 2   Chest_pain_type      303 non-null    float64\n",
            " 3   Rest_bp              303 non-null    float64\n",
            " 4   Cholestrol           303 non-null    float64\n",
            " 5   Blood_Sugar          303 non-null    float64\n",
            " 6   Rest_ECG             303 non-null    float64\n",
            " 7   Max_Heart_Rate       303 non-null    float64\n",
            " 8   Exe_ind_anigma       303 non-null    float64\n",
            " 9   Exe_ind_dep          303 non-null    float64\n",
            " 10  Slo                  303 non-null    float64\n",
            " 11  Major_blood_vessels  299 non-null    float64\n",
            " 12  Thal                 301 non-null    float64\n",
            " 13  Diag_Res             303 non-null    int64  \n",
            "dtypes: float64(13), int64(1)\n",
            "memory usage: 33.3 KB\n"
          ]
        }
      ]
    },
    {
      "cell_type": "code",
      "source": [
        "df.describe().T"
      ],
      "metadata": {
        "id": "r0d6ftfZrnHn",
        "colab": {
          "base_uri": "https://localhost:8080/",
          "height": 488
        },
        "outputId": "5746f4b8-7120-4abb-dc4e-a22119d4166c"
      },
      "execution_count": null,
      "outputs": [
        {
          "output_type": "execute_result",
          "data": {
            "text/plain": [
              "                     count        mean        std    min    25%    50%    75%  \\\n",
              "Age                  303.0   54.438944   9.038662   29.0   48.0   56.0   61.0   \n",
              "Sex                  303.0    0.679868   0.467299    0.0    0.0    1.0    1.0   \n",
              "Chest_pain_type      303.0    3.158416   0.960126    1.0    3.0    3.0    4.0   \n",
              "Rest_bp              303.0  131.689769  17.599748   94.0  120.0  130.0  140.0   \n",
              "Cholestrol           303.0  246.693069  51.776918  126.0  211.0  241.0  275.0   \n",
              "Blood_Sugar          303.0    0.148515   0.356198    0.0    0.0    0.0    0.0   \n",
              "Rest_ECG             303.0    0.990099   0.994971    0.0    0.0    1.0    2.0   \n",
              "Max_Heart_Rate       303.0  149.607261  22.875003   71.0  133.5  153.0  166.0   \n",
              "Exe_ind_anigma       303.0    0.326733   0.469794    0.0    0.0    0.0    1.0   \n",
              "Exe_ind_dep          303.0    1.039604   1.161075    0.0    0.0    0.8    1.6   \n",
              "Slo                  303.0    1.600660   0.616226    1.0    1.0    2.0    2.0   \n",
              "Major_blood_vessels  299.0    0.672241   0.937438    0.0    0.0    0.0    1.0   \n",
              "Thal                 301.0    4.734219   1.939706    3.0    3.0    3.0    7.0   \n",
              "Diag_Res             303.0    0.937294   1.228536    0.0    0.0    0.0    2.0   \n",
              "\n",
              "                       max  \n",
              "Age                   77.0  \n",
              "Sex                    1.0  \n",
              "Chest_pain_type        4.0  \n",
              "Rest_bp              200.0  \n",
              "Cholestrol           564.0  \n",
              "Blood_Sugar            1.0  \n",
              "Rest_ECG               2.0  \n",
              "Max_Heart_Rate       202.0  \n",
              "Exe_ind_anigma         1.0  \n",
              "Exe_ind_dep            6.2  \n",
              "Slo                    3.0  \n",
              "Major_blood_vessels    3.0  \n",
              "Thal                   7.0  \n",
              "Diag_Res               4.0  "
            ],
            "text/html": [
              "\n",
              "  <div id=\"df-7d959d1d-fe3a-4fba-acf8-51b355043848\">\n",
              "    <div class=\"colab-df-container\">\n",
              "      <div>\n",
              "<style scoped>\n",
              "    .dataframe tbody tr th:only-of-type {\n",
              "        vertical-align: middle;\n",
              "    }\n",
              "\n",
              "    .dataframe tbody tr th {\n",
              "        vertical-align: top;\n",
              "    }\n",
              "\n",
              "    .dataframe thead th {\n",
              "        text-align: right;\n",
              "    }\n",
              "</style>\n",
              "<table border=\"1\" class=\"dataframe\">\n",
              "  <thead>\n",
              "    <tr style=\"text-align: right;\">\n",
              "      <th></th>\n",
              "      <th>count</th>\n",
              "      <th>mean</th>\n",
              "      <th>std</th>\n",
              "      <th>min</th>\n",
              "      <th>25%</th>\n",
              "      <th>50%</th>\n",
              "      <th>75%</th>\n",
              "      <th>max</th>\n",
              "    </tr>\n",
              "  </thead>\n",
              "  <tbody>\n",
              "    <tr>\n",
              "      <th>Age</th>\n",
              "      <td>303.0</td>\n",
              "      <td>54.438944</td>\n",
              "      <td>9.038662</td>\n",
              "      <td>29.0</td>\n",
              "      <td>48.0</td>\n",
              "      <td>56.0</td>\n",
              "      <td>61.0</td>\n",
              "      <td>77.0</td>\n",
              "    </tr>\n",
              "    <tr>\n",
              "      <th>Sex</th>\n",
              "      <td>303.0</td>\n",
              "      <td>0.679868</td>\n",
              "      <td>0.467299</td>\n",
              "      <td>0.0</td>\n",
              "      <td>0.0</td>\n",
              "      <td>1.0</td>\n",
              "      <td>1.0</td>\n",
              "      <td>1.0</td>\n",
              "    </tr>\n",
              "    <tr>\n",
              "      <th>Chest_pain_type</th>\n",
              "      <td>303.0</td>\n",
              "      <td>3.158416</td>\n",
              "      <td>0.960126</td>\n",
              "      <td>1.0</td>\n",
              "      <td>3.0</td>\n",
              "      <td>3.0</td>\n",
              "      <td>4.0</td>\n",
              "      <td>4.0</td>\n",
              "    </tr>\n",
              "    <tr>\n",
              "      <th>Rest_bp</th>\n",
              "      <td>303.0</td>\n",
              "      <td>131.689769</td>\n",
              "      <td>17.599748</td>\n",
              "      <td>94.0</td>\n",
              "      <td>120.0</td>\n",
              "      <td>130.0</td>\n",
              "      <td>140.0</td>\n",
              "      <td>200.0</td>\n",
              "    </tr>\n",
              "    <tr>\n",
              "      <th>Cholestrol</th>\n",
              "      <td>303.0</td>\n",
              "      <td>246.693069</td>\n",
              "      <td>51.776918</td>\n",
              "      <td>126.0</td>\n",
              "      <td>211.0</td>\n",
              "      <td>241.0</td>\n",
              "      <td>275.0</td>\n",
              "      <td>564.0</td>\n",
              "    </tr>\n",
              "    <tr>\n",
              "      <th>Blood_Sugar</th>\n",
              "      <td>303.0</td>\n",
              "      <td>0.148515</td>\n",
              "      <td>0.356198</td>\n",
              "      <td>0.0</td>\n",
              "      <td>0.0</td>\n",
              "      <td>0.0</td>\n",
              "      <td>0.0</td>\n",
              "      <td>1.0</td>\n",
              "    </tr>\n",
              "    <tr>\n",
              "      <th>Rest_ECG</th>\n",
              "      <td>303.0</td>\n",
              "      <td>0.990099</td>\n",
              "      <td>0.994971</td>\n",
              "      <td>0.0</td>\n",
              "      <td>0.0</td>\n",
              "      <td>1.0</td>\n",
              "      <td>2.0</td>\n",
              "      <td>2.0</td>\n",
              "    </tr>\n",
              "    <tr>\n",
              "      <th>Max_Heart_Rate</th>\n",
              "      <td>303.0</td>\n",
              "      <td>149.607261</td>\n",
              "      <td>22.875003</td>\n",
              "      <td>71.0</td>\n",
              "      <td>133.5</td>\n",
              "      <td>153.0</td>\n",
              "      <td>166.0</td>\n",
              "      <td>202.0</td>\n",
              "    </tr>\n",
              "    <tr>\n",
              "      <th>Exe_ind_anigma</th>\n",
              "      <td>303.0</td>\n",
              "      <td>0.326733</td>\n",
              "      <td>0.469794</td>\n",
              "      <td>0.0</td>\n",
              "      <td>0.0</td>\n",
              "      <td>0.0</td>\n",
              "      <td>1.0</td>\n",
              "      <td>1.0</td>\n",
              "    </tr>\n",
              "    <tr>\n",
              "      <th>Exe_ind_dep</th>\n",
              "      <td>303.0</td>\n",
              "      <td>1.039604</td>\n",
              "      <td>1.161075</td>\n",
              "      <td>0.0</td>\n",
              "      <td>0.0</td>\n",
              "      <td>0.8</td>\n",
              "      <td>1.6</td>\n",
              "      <td>6.2</td>\n",
              "    </tr>\n",
              "    <tr>\n",
              "      <th>Slo</th>\n",
              "      <td>303.0</td>\n",
              "      <td>1.600660</td>\n",
              "      <td>0.616226</td>\n",
              "      <td>1.0</td>\n",
              "      <td>1.0</td>\n",
              "      <td>2.0</td>\n",
              "      <td>2.0</td>\n",
              "      <td>3.0</td>\n",
              "    </tr>\n",
              "    <tr>\n",
              "      <th>Major_blood_vessels</th>\n",
              "      <td>299.0</td>\n",
              "      <td>0.672241</td>\n",
              "      <td>0.937438</td>\n",
              "      <td>0.0</td>\n",
              "      <td>0.0</td>\n",
              "      <td>0.0</td>\n",
              "      <td>1.0</td>\n",
              "      <td>3.0</td>\n",
              "    </tr>\n",
              "    <tr>\n",
              "      <th>Thal</th>\n",
              "      <td>301.0</td>\n",
              "      <td>4.734219</td>\n",
              "      <td>1.939706</td>\n",
              "      <td>3.0</td>\n",
              "      <td>3.0</td>\n",
              "      <td>3.0</td>\n",
              "      <td>7.0</td>\n",
              "      <td>7.0</td>\n",
              "    </tr>\n",
              "    <tr>\n",
              "      <th>Diag_Res</th>\n",
              "      <td>303.0</td>\n",
              "      <td>0.937294</td>\n",
              "      <td>1.228536</td>\n",
              "      <td>0.0</td>\n",
              "      <td>0.0</td>\n",
              "      <td>0.0</td>\n",
              "      <td>2.0</td>\n",
              "      <td>4.0</td>\n",
              "    </tr>\n",
              "  </tbody>\n",
              "</table>\n",
              "</div>\n",
              "      <button class=\"colab-df-convert\" onclick=\"convertToInteractive('df-7d959d1d-fe3a-4fba-acf8-51b355043848')\"\n",
              "              title=\"Convert this dataframe to an interactive table.\"\n",
              "              style=\"display:none;\">\n",
              "        \n",
              "  <svg xmlns=\"http://www.w3.org/2000/svg\" height=\"24px\"viewBox=\"0 0 24 24\"\n",
              "       width=\"24px\">\n",
              "    <path d=\"M0 0h24v24H0V0z\" fill=\"none\"/>\n",
              "    <path d=\"M18.56 5.44l.94 2.06.94-2.06 2.06-.94-2.06-.94-.94-2.06-.94 2.06-2.06.94zm-11 1L8.5 8.5l.94-2.06 2.06-.94-2.06-.94L8.5 2.5l-.94 2.06-2.06.94zm10 10l.94 2.06.94-2.06 2.06-.94-2.06-.94-.94-2.06-.94 2.06-2.06.94z\"/><path d=\"M17.41 7.96l-1.37-1.37c-.4-.4-.92-.59-1.43-.59-.52 0-1.04.2-1.43.59L10.3 9.45l-7.72 7.72c-.78.78-.78 2.05 0 2.83L4 21.41c.39.39.9.59 1.41.59.51 0 1.02-.2 1.41-.59l7.78-7.78 2.81-2.81c.8-.78.8-2.07 0-2.86zM5.41 20L4 18.59l7.72-7.72 1.47 1.35L5.41 20z\"/>\n",
              "  </svg>\n",
              "      </button>\n",
              "      \n",
              "  <style>\n",
              "    .colab-df-container {\n",
              "      display:flex;\n",
              "      flex-wrap:wrap;\n",
              "      gap: 12px;\n",
              "    }\n",
              "\n",
              "    .colab-df-convert {\n",
              "      background-color: #E8F0FE;\n",
              "      border: none;\n",
              "      border-radius: 50%;\n",
              "      cursor: pointer;\n",
              "      display: none;\n",
              "      fill: #1967D2;\n",
              "      height: 32px;\n",
              "      padding: 0 0 0 0;\n",
              "      width: 32px;\n",
              "    }\n",
              "\n",
              "    .colab-df-convert:hover {\n",
              "      background-color: #E2EBFA;\n",
              "      box-shadow: 0px 1px 2px rgba(60, 64, 67, 0.3), 0px 1px 3px 1px rgba(60, 64, 67, 0.15);\n",
              "      fill: #174EA6;\n",
              "    }\n",
              "\n",
              "    [theme=dark] .colab-df-convert {\n",
              "      background-color: #3B4455;\n",
              "      fill: #D2E3FC;\n",
              "    }\n",
              "\n",
              "    [theme=dark] .colab-df-convert:hover {\n",
              "      background-color: #434B5C;\n",
              "      box-shadow: 0px 1px 3px 1px rgba(0, 0, 0, 0.15);\n",
              "      filter: drop-shadow(0px 1px 2px rgba(0, 0, 0, 0.3));\n",
              "      fill: #FFFFFF;\n",
              "    }\n",
              "  </style>\n",
              "\n",
              "      <script>\n",
              "        const buttonEl =\n",
              "          document.querySelector('#df-7d959d1d-fe3a-4fba-acf8-51b355043848 button.colab-df-convert');\n",
              "        buttonEl.style.display =\n",
              "          google.colab.kernel.accessAllowed ? 'block' : 'none';\n",
              "\n",
              "        async function convertToInteractive(key) {\n",
              "          const element = document.querySelector('#df-7d959d1d-fe3a-4fba-acf8-51b355043848');\n",
              "          const dataTable =\n",
              "            await google.colab.kernel.invokeFunction('convertToInteractive',\n",
              "                                                     [key], {});\n",
              "          if (!dataTable) return;\n",
              "\n",
              "          const docLinkHtml = 'Like what you see? Visit the ' +\n",
              "            '<a target=\"_blank\" href=https://colab.research.google.com/notebooks/data_table.ipynb>data table notebook</a>'\n",
              "            + ' to learn more about interactive tables.';\n",
              "          element.innerHTML = '';\n",
              "          dataTable['output_type'] = 'display_data';\n",
              "          await google.colab.output.renderOutput(dataTable, element);\n",
              "          const docLink = document.createElement('div');\n",
              "          docLink.innerHTML = docLinkHtml;\n",
              "          element.appendChild(docLink);\n",
              "        }\n",
              "      </script>\n",
              "    </div>\n",
              "  </div>\n",
              "  "
            ]
          },
          "metadata": {},
          "execution_count": 12
        }
      ]
    },
    {
      "cell_type": "markdown",
      "source": [
        "### Train-test split, 80%/20% stratified by the target "
      ],
      "metadata": {
        "id": "Xqur6VosrXCq"
      }
    },
    {
      "cell_type": "code",
      "source": [
        "numeric_columns = ['Age', 'Sex', 'Chest_pain_type', 'Rest_bp', 'Cholestrol', 'Blood_Sugar',\n",
        "       'Rest_ECG', 'Max_Heart_Rate', 'Exe_ind_anigma', 'Exe_ind_dep', 'Slo',\n",
        "       'Major_blood_vessels', 'Thal']\n",
        "target = 'Diag_Res'"
      ],
      "metadata": {
        "id": "o64BEK1wkRcw"
      },
      "execution_count": null,
      "outputs": []
    },
    {
      "cell_type": "code",
      "source": [
        "df['Diag_Res'].value_counts()"
      ],
      "metadata": {
        "colab": {
          "base_uri": "https://localhost:8080/"
        },
        "id": "1T19s4zSDr_t",
        "outputId": "24b59280-3ada-4d2c-b851-5f149b9c0144"
      },
      "execution_count": null,
      "outputs": [
        {
          "output_type": "execute_result",
          "data": {
            "text/plain": [
              "0    164\n",
              "1     55\n",
              "2     36\n",
              "3     35\n",
              "4     13\n",
              "Name: Diag_Res, dtype: int64"
            ]
          },
          "metadata": {},
          "execution_count": 14
        }
      ]
    },
    {
      "cell_type": "markdown",
      "source": [
        "Binarize the target"
      ],
      "metadata": {
        "id": "RXI9iMA4alwq"
      }
    },
    {
      "cell_type": "code",
      "source": [
        "df.loc[df['Diag_Res'] >= 1, 'Diag_Res'] = 1"
      ],
      "metadata": {
        "id": "w968HVc3DkNs"
      },
      "execution_count": null,
      "outputs": []
    },
    {
      "cell_type": "code",
      "source": [
        "df['Diag_Res'].value_counts()"
      ],
      "metadata": {
        "colab": {
          "base_uri": "https://localhost:8080/"
        },
        "id": "Y-k4kFf6ER_X",
        "outputId": "4bdccb4f-1d16-4b26-de44-5eb25956505f"
      },
      "execution_count": null,
      "outputs": [
        {
          "output_type": "execute_result",
          "data": {
            "text/plain": [
              "0    164\n",
              "1    139\n",
              "Name: Diag_Res, dtype: int64"
            ]
          },
          "metadata": {},
          "execution_count": 16
        }
      ]
    },
    {
      "cell_type": "code",
      "source": [
        "X_train, X_test, y_train, y_test = train_test_split(df.drop(columns=target), df[target], stratify=df[target], test_size=0.2)"
      ],
      "metadata": {
        "id": "MPCPE8LMDF5X"
      },
      "execution_count": null,
      "outputs": []
    },
    {
      "cell_type": "markdown",
      "source": [
        "## 2) Visualization step. (10pts) \n",
        "* Use any method that you deem as appropriate to find out the most 2 relevant features to the target. \n",
        "* Apply a 2-d scatter plot of the features with a heat map of the target overlay. "
      ],
      "metadata": {
        "id": "ujsFGmc3kcI4"
      }
    },
    {
      "cell_type": "code",
      "source": [
        "# https://scikit-learn.org/stable/modules/feature_selection.html\n",
        "\n",
        "from sklearn.feature_selection import VarianceThreshold\n",
        "from sklearn.feature_selection import SelectKBest\n",
        "from sklearn.feature_selection import mutual_info_classif\n",
        "from sklearn.feature_selection import chi2"
      ],
      "metadata": {
        "id": "hu0e2ahuarqx"
      },
      "execution_count": null,
      "outputs": []
    },
    {
      "cell_type": "code",
      "source": [
        "X_train_proc = SimpleImputer(strategy='median').fit_transform(X_train[numeric_columns])\n",
        "X_train_proc = pd.DataFrame(X_train_proc, columns=numeric_columns)"
      ],
      "metadata": {
        "id": "F-EtJtRRcqvi"
      },
      "execution_count": null,
      "outputs": []
    },
    {
      "cell_type": "code",
      "source": [
        "kb = SelectKBest(mutual_info_classif, k=2)"
      ],
      "metadata": {
        "id": "Yt6Dv-54dmUl"
      },
      "execution_count": null,
      "outputs": []
    },
    {
      "cell_type": "code",
      "source": [
        "X_new = kb.fit_transform(X_train_proc, y_train)"
      ],
      "metadata": {
        "id": "W5oCqw7Udo9S"
      },
      "execution_count": null,
      "outputs": []
    },
    {
      "cell_type": "code",
      "source": [
        "kb.get_feature_names_out()"
      ],
      "metadata": {
        "colab": {
          "base_uri": "https://localhost:8080/"
        },
        "id": "1nsUM5GPfKUR",
        "outputId": "f01ab392-6662-44af-9686-b54c66f76455"
      },
      "execution_count": null,
      "outputs": [
        {
          "output_type": "execute_result",
          "data": {
            "text/plain": [
              "array(['Sex', 'Thal'], dtype=object)"
            ]
          },
          "metadata": {},
          "execution_count": 22
        }
      ]
    },
    {
      "cell_type": "markdown",
      "source": [
        "https://python-graph-gallery.com/43-use-categorical-variable-to-color-scatterplot-seaborn"
      ],
      "metadata": {
        "id": "wAunULqHkcdN"
      }
    },
    {
      "cell_type": "code",
      "source": [
        "# Use the 'hue' argument to provide a factor variable\n",
        "sns.lmplot( x='Exe_ind_dep', y='Thal', data=pd.concat([X_train_proc,y_train], axis=1), fit_reg=False, hue=target, legend=False)\n",
        " \n",
        "# Move the legend to an empty part of the plot\n",
        "plt.legend(loc='lower right')\n",
        "\n",
        "plt.show()"
      ],
      "metadata": {
        "colab": {
          "base_uri": "https://localhost:8080/",
          "height": 369
        },
        "id": "LCtplYVzZMFo",
        "outputId": "a2ff8577-be6c-4ed9-fec5-6ff1b2e49087"
      },
      "execution_count": null,
      "outputs": [
        {
          "output_type": "display_data",
          "data": {
            "text/plain": [
              "<Figure size 360x360 with 1 Axes>"
            ],
            "image/png": "[encoded data removed]"
          },
          "metadata": {
            "needs_background": "light"
          }
        }
      ]
    },
    {
      "cell_type": "markdown",
      "source": [
        "## 3) No feature engineering or regularization needed. (20pts)\n",
        "a) Initiate a KNN model, and apply 3-fold CVs and search for the best K. \n",
        "\n",
        "b) Also fit a logistic regression model. \n"
      ],
      "metadata": {
        "id": "2SOa_NeFkcuY"
      }
    },
    {
      "cell_type": "markdown",
      "source": [
        "### KNN w/ 3-fold CV to find the best K"
      ],
      "metadata": {
        "id": "Rx3WJPwlHx2J"
      }
    },
    {
      "cell_type": "code",
      "source": [
        "knn_pipe = Pipeline(steps=[('impute', SimpleImputer(strategy='median')),\n",
        "                           ('scale',MinMaxScaler()),\n",
        "                           ('knn', KNeighborsClassifier())])"
      ],
      "metadata": {
        "id": "w9HSKASCkc4h"
      },
      "execution_count": null,
      "outputs": []
    },
    {
      "cell_type": "markdown",
      "source": [
        "Working for the hospital you would want you minimize false negatives, so uses recall as the scorer to pick the best number n neighbors."
      ],
      "metadata": {
        "id": "a1nw98H0JxA0"
      }
    },
    {
      "cell_type": "code",
      "source": [
        "knn_grid = GridSearchCV(knn_pipe, param_grid={'knn__n_neighbors':range(1, int(np.sqrt(len(df))) + 1)},\n",
        "                        scoring = 'recall', \n",
        "                        return_train_score=True, \n",
        "                        cv=KFold(3)) \n",
        "\n",
        "knn_grid.fit(X_train, y_train)"
      ],
      "metadata": {
        "colab": {
          "base_uri": "https://localhost:8080/"
        },
        "id": "RRoHKNVOHwMo",
        "outputId": "c9a7abef-0979-48dd-9ffc-93ef9cf799fe"
      },
      "execution_count": null,
      "outputs": [
        {
          "output_type": "execute_result",
          "data": {
            "text/plain": [
              "GridSearchCV(cv=KFold(n_splits=3, random_state=None, shuffle=False),\n",
              "             estimator=Pipeline(steps=[('impute',\n",
              "                                        SimpleImputer(strategy='median')),\n",
              "                                       ('scale', MinMaxScaler()),\n",
              "                                       ('knn', KNeighborsClassifier())]),\n",
              "             param_grid={'knn__n_neighbors': range(1, 18)},\n",
              "             return_train_score=True, scoring='recall')"
            ]
          },
          "metadata": {},
          "execution_count": 26
        }
      ]
    },
    {
      "cell_type": "code",
      "source": [
        "print(\"Best parameter:\", knn_grid.best_params_)"
      ],
      "metadata": {
        "colab": {
          "base_uri": "https://localhost:8080/"
        },
        "id": "PvUfZ6KHKfuG",
        "outputId": "bdc01978-e63d-413d-c4e8-7aabb105c2de"
      },
      "execution_count": null,
      "outputs": [
        {
          "output_type": "stream",
          "name": "stdout",
          "text": [
            "Best parameter: {'knn__n_neighbors': 9}\n"
          ]
        }
      ]
    },
    {
      "cell_type": "code",
      "source": [
        "print(\"Best Recall Score:\", knn_grid.best_score_)"
      ],
      "metadata": {
        "colab": {
          "base_uri": "https://localhost:8080/"
        },
        "id": "awyMsjtfGPuw",
        "outputId": "09a233e8-14cd-416e-f14a-615f5c85e7e4"
      },
      "execution_count": null,
      "outputs": [
        {
          "output_type": "stream",
          "name": "stdout",
          "text": [
            "Best Recall Score: 0.7968766613503456\n"
          ]
        }
      ]
    },
    {
      "cell_type": "code",
      "source": [
        "# Choose the best estimator to be the final model \n",
        "knn = knn_grid.best_estimator_"
      ],
      "metadata": {
        "id": "YGLCmrqMKzVk"
      },
      "execution_count": null,
      "outputs": []
    },
    {
      "cell_type": "markdown",
      "source": [
        "### Logistic Regression"
      ],
      "metadata": {
        "id": "dRs4dafpH4ve"
      }
    },
    {
      "cell_type": "code",
      "source": [
        "log_reg_pipe = Pipeline(steps=[('impute', SimpleImputer(strategy='median')),\n",
        "                               ('logistic_regression', LogisticRegression(penalty='none', max_iter=10000))])\n",
        "\n",
        "log_reg_pipe.fit(X_train, y_train)"
      ],
      "metadata": {
        "colab": {
          "base_uri": "https://localhost:8080/"
        },
        "id": "IhrM4o5LH4Wf",
        "outputId": "95e74b68-0965-43c2-8730-caa4730b4c23"
      },
      "execution_count": null,
      "outputs": [
        {
          "output_type": "execute_result",
          "data": {
            "text/plain": [
              "Pipeline(steps=[('impute', SimpleImputer(strategy='median')),\n",
              "                ('logistic_regression',\n",
              "                 LogisticRegression(max_iter=10000, penalty='none'))])"
            ]
          },
          "metadata": {},
          "execution_count": 30
        }
      ]
    },
    {
      "cell_type": "markdown",
      "source": [
        "## 4) Model Evaluation. (30 pts)\n",
        "For prediction, you can only use .predict_proba. DO NOT use .predict. \n",
        "\n",
        "\n",
        "\n"
      ],
      "metadata": {
        "id": "smbz3ZyWlLll"
      }
    },
    {
      "cell_type": "markdown",
      "source": [
        "### a) Build a confusion matrix (CM) function that takes input of the model and the probability cutoff. The function returns the confusion matrix, and also prints out recall, precision and f1 score. \n",
        "* Print out the CM for cutoff of 0.3 and 0.7, for both KNN and logistic regression. Talk about what you observe."
      ],
      "metadata": {
        "id": "LHk7iRMwlLxB"
      }
    },
    {
      "cell_type": "markdown",
      "source": [
        "Applied to the confusion matrix, the cutoff is also known as the threshold. The matrix uses this value to assign each prediction to a binary classification. \n",
        "\n",
        "Precision measures: out of the predicted true, how many were actually true.\n",
        "\n",
        "Precision = true positive/ (true positive + false positive)  *false positive aka type 1 error\n",
        "\n",
        "Increasing precision means increasing type II error.\n",
        "\n",
        "Recall measures: out of the actual true, how many were predicted true.\n",
        "\n",
        "Recall = true positive/(true positive + false negative) *false negatives aka type II error\n",
        "\n",
        "Good for when you need to capture all true positives, even if that means increasing false positives (false alarms), etc. good for cancer detection. \n",
        "\n",
        "Increasing recall means increasing type I error.\n",
        "\n",
        "Thus, increasing the threshold will increase precision while decreasing recall and vice versa. \n",
        "\n",
        "A happy compromise between the two is the harmonic mean, called the F1 Score.\n",
        "\n",
        "F1 = 2[(Precision*Recall)/(Precision + Recall)] \n",
        "\n",
        "The harmonic mean is used to showcase the effects of outliers.\n"
      ],
      "metadata": {
        "id": "KklMUC9omES7"
      }
    },
    {
      "cell_type": "code",
      "source": [
        "def con_mat(ground_truth, predicted_prob, cut_off):\n",
        "  df = ground_truth.to_frame()\n",
        "  df['predictions'] = np.where(predicted_prob[:,1] >= cut_off, 1, 0)\n",
        "  grps = df.groupby(['predictions', 'Diag_Res'])['Diag_Res'].count()\n",
        "\n",
        "  return grps"
      ],
      "metadata": {
        "id": "frGH6cYqLKA8"
      },
      "execution_count": null,
      "outputs": []
    },
    {
      "cell_type": "code",
      "source": [
        "def precision(ground_truth, predicted_prob, cut_off):\n",
        "  df = ground_truth.to_frame()\n",
        "  df['predictions'] = np.where(predicted_prob[:,1] >= cut_off, 1, 0)\n",
        "  tp = df.loc[(df['predictions'] == 1) & (df['Diag_Res'] == 1), 'predictions'].count()\n",
        "  fp = df.loc[(df['predictions'] == 1) & (df['Diag_Res'] == 0), 'predictions'].count()\n",
        "  return tp / (tp + fp)"
      ],
      "metadata": {
        "id": "SfCMFVJ6LKDx"
      },
      "execution_count": null,
      "outputs": []
    },
    {
      "cell_type": "code",
      "source": [
        "def recall(ground_truth, predicted_prob, cut_off):\n",
        "  df = ground_truth.to_frame()\n",
        "  df['predictions'] = np.where(predicted_prob[:,1] >= cut_off, 1, 0)\n",
        "  tp = df.loc[(df['predictions'] == 1) & (df['Diag_Res'] == 1), 'predictions'].count()\n",
        "  fn = df.loc[(df['predictions'] == 0) & (df['Diag_Res'] == 1), 'predictions'].count()\n",
        "  return tp / (tp + fn)"
      ],
      "metadata": {
        "id": "HZm-rNOSLKHJ"
      },
      "execution_count": null,
      "outputs": []
    },
    {
      "cell_type": "code",
      "source": [
        "def f1(ground_truth, predicted_prob, cut_off):\n",
        "  df = ground_truth.to_frame()\n",
        "  df['predictions'] = np.where(predicted_prob[:,1] >= cut_off, 1, 0)\n",
        "  tp = df.loc[(df['predictions'] == 1) & (df['Diag_Res'] == 1), 'predictions'].count()\n",
        "  fp = df.loc[(df['predictions'] == 1) & (df['Diag_Res'] == 0), 'predictions'].count()\n",
        "  fn = df.loc[(df['predictions'] == 0) & (df['Diag_Res'] == 1), 'predictions'].count()\n",
        "  return tp / (tp + 0.5 * (fp + fn))"
      ],
      "metadata": {
        "id": "U5ArCqG_QSL_"
      },
      "execution_count": null,
      "outputs": []
    },
    {
      "cell_type": "code",
      "source": [
        "def specificity(ground_truth, predicted_prob, cut_off):\n",
        "  df = ground_truth.to_frame()\n",
        "  df['predictions'] = np.where(predicted_prob[:,1] >= cut_off, 1, 0)\n",
        "  fp = df.loc[(df['predictions'] == 1) & (df['Diag_Res'] == 0), 'predictions'].count()\n",
        "  tn = df.loc[(df['predictions'] == 0) & (df['Diag_Res'] == 0), 'predictions'].count()\n",
        "  return tn / (fp + tn)"
      ],
      "metadata": {
        "id": "kMFRnUN8LdJM"
      },
      "execution_count": null,
      "outputs": []
    },
    {
      "cell_type": "markdown",
      "source": [
        "#### KNN Model Performance on Testing Data (confusion matrix, recall, precision and f1 score)"
      ],
      "metadata": {
        "id": "qT16IGqPMmqI"
      }
    },
    {
      "cell_type": "code",
      "source": [
        "knn_probs = knn.predict_proba(X_test)"
      ],
      "metadata": {
        "id": "QPa95x39LdMR"
      },
      "execution_count": null,
      "outputs": []
    },
    {
      "cell_type": "markdown",
      "source": [
        "##### 0.3 Cutoff"
      ],
      "metadata": {
        "id": "K6kpqCOOSPCD"
      }
    },
    {
      "cell_type": "code",
      "source": [
        "con_mat(y_test, knn_probs, .3)"
      ],
      "metadata": {
        "colab": {
          "base_uri": "https://localhost:8080/"
        },
        "id": "NkcgxXhJNbgI",
        "outputId": "8ceb1579-afb4-4f5a-db99-18c8c55d376d"
      },
      "execution_count": null,
      "outputs": [
        {
          "output_type": "execute_result",
          "data": {
            "text/plain": [
              "predictions  Diag_Res\n",
              "0            0           19\n",
              "             1            2\n",
              "1            0           14\n",
              "             1           26\n",
              "Name: Diag_Res, dtype: int64"
            ]
          },
          "metadata": {},
          "execution_count": 37
        }
      ]
    },
    {
      "cell_type": "code",
      "source": [
        "print(\"Cutoff 0.3\")\n",
        "print(\"UDF KNN Precision:\", precision(y_test, knn_probs, .3))\n",
        "print(\"UDF KNN Recall:\", recall(y_test, knn_probs, .3))\n",
        "print(\"UDF KNN F1:\", f1(y_test, knn_probs, .3))"
      ],
      "metadata": {
        "colab": {
          "base_uri": "https://localhost:8080/"
        },
        "id": "b82ouv4_TJYk",
        "outputId": "9177a8f0-12ad-47ec-a1bb-4b227800a7a5"
      },
      "execution_count": null,
      "outputs": [
        {
          "output_type": "stream",
          "name": "stdout",
          "text": [
            "Cutoff 0.3\n",
            "UDF KNN Precision: 0.65\n",
            "UDF KNN Recall: 0.9285714285714286\n",
            "UDF KNN F1: 0.7647058823529411\n"
          ]
        }
      ]
    },
    {
      "cell_type": "markdown",
      "source": [
        "##### 0.7 Cutoff"
      ],
      "metadata": {
        "id": "EPN7tsbrSU1a"
      }
    },
    {
      "cell_type": "code",
      "source": [
        "con_mat(y_test, knn_probs, .7)"
      ],
      "metadata": {
        "colab": {
          "base_uri": "https://localhost:8080/"
        },
        "outputId": "43ccba51-58bf-42a4-ec19-931bbcdd9c53",
        "id": "mJFfxgDLSbOc"
      },
      "execution_count": null,
      "outputs": [
        {
          "output_type": "execute_result",
          "data": {
            "text/plain": [
              "predictions  Diag_Res\n",
              "0            0           31\n",
              "             1            8\n",
              "1            0            2\n",
              "             1           20\n",
              "Name: Diag_Res, dtype: int64"
            ]
          },
          "metadata": {},
          "execution_count": 39
        }
      ]
    },
    {
      "cell_type": "code",
      "source": [
        "print(\"Cutoff 0.7\")\n",
        "print(\"UDF KNN Precision:\", precision(y_test, knn_probs, .7))\n",
        "print(\"UDF KNN Recall:\", recall(y_test, knn_probs, .7))\n",
        "print(\"UDF KNN F1:\", f1(y_test, knn_probs, .7))"
      ],
      "metadata": {
        "colab": {
          "base_uri": "https://localhost:8080/"
        },
        "id": "c6UiyVr_U1ld",
        "outputId": "a53d1678-7acf-4c76-a822-bebe3c4e71ca"
      },
      "execution_count": null,
      "outputs": [
        {
          "output_type": "stream",
          "name": "stdout",
          "text": [
            "Cutoff 0.7\n",
            "UDF KNN Precision: 0.9090909090909091\n",
            "UDF KNN Recall: 0.7142857142857143\n",
            "UDF KNN F1: 0.8\n"
          ]
        }
      ]
    },
    {
      "cell_type": "markdown",
      "source": [
        "#### Logistic Regression Performance on Testing Data (confusion matrix, recall, precision and f1 score)"
      ],
      "metadata": {
        "id": "EKIT6vxkLdO2"
      }
    },
    {
      "cell_type": "code",
      "source": [
        "log_probs = log_reg_pipe.predict_proba(X_test)"
      ],
      "metadata": {
        "id": "1rPdZvVSLdSA"
      },
      "execution_count": null,
      "outputs": []
    },
    {
      "cell_type": "markdown",
      "source": [
        "##### Logistic Regression w/ 0.3 Cutoff"
      ],
      "metadata": {
        "id": "Hm8LpAXKTmIu"
      }
    },
    {
      "cell_type": "code",
      "source": [
        "con_mat(y_test, log_probs, .3)"
      ],
      "metadata": {
        "colab": {
          "base_uri": "https://localhost:8080/"
        },
        "outputId": "da7742df-e9bc-4a01-fe31-af3ca59a4466",
        "id": "23RXP4R3TmIu"
      },
      "execution_count": null,
      "outputs": [
        {
          "output_type": "execute_result",
          "data": {
            "text/plain": [
              "predictions  Diag_Res\n",
              "0            0           24\n",
              "             1            4\n",
              "1            0            9\n",
              "             1           24\n",
              "Name: Diag_Res, dtype: int64"
            ]
          },
          "metadata": {},
          "execution_count": 42
        }
      ]
    },
    {
      "cell_type": "code",
      "source": [
        "print(\"Cutoff 0.3\")\n",
        "print(\"UDF Logistic Regression Precision:\", precision(y_test, log_probs, .3))\n",
        "print(\"UDF Logistic Regression Recall:\", recall(y_test, log_probs, .3))\n",
        "print(\"UDF Logistic Regression F1:\", f1(y_test, log_probs, .3))"
      ],
      "metadata": {
        "colab": {
          "base_uri": "https://localhost:8080/"
        },
        "outputId": "71356ec8-6988-4db9-c117-9bd7c290784e",
        "id": "hWVcqNl2TmIv"
      },
      "execution_count": null,
      "outputs": [
        {
          "output_type": "stream",
          "name": "stdout",
          "text": [
            "Cutoff 0.3\n",
            "UDF Logistic Regression Precision: 0.7272727272727273\n",
            "UDF Logistic Regression Recall: 0.8571428571428571\n",
            "UDF Logistic Regression F1: 0.7868852459016393\n"
          ]
        }
      ]
    },
    {
      "cell_type": "markdown",
      "source": [
        "##### Logistic Regression w/ 0.7 Cutoff"
      ],
      "metadata": {
        "id": "OMaYYDOZTmIw"
      }
    },
    {
      "cell_type": "code",
      "source": [
        "con_mat(y_test, log_probs, .7)"
      ],
      "metadata": {
        "colab": {
          "base_uri": "https://localhost:8080/"
        },
        "outputId": "1f9a636e-fdd8-40d5-d8e6-9ab9602b634c",
        "id": "narwnlAiTmIx"
      },
      "execution_count": null,
      "outputs": [
        {
          "output_type": "execute_result",
          "data": {
            "text/plain": [
              "predictions  Diag_Res\n",
              "0            0           30\n",
              "             1            7\n",
              "1            0            3\n",
              "             1           21\n",
              "Name: Diag_Res, dtype: int64"
            ]
          },
          "metadata": {},
          "execution_count": 44
        }
      ]
    },
    {
      "cell_type": "code",
      "source": [
        "print(\"Cutoff 0.7\")\n",
        "print(\"UDF Logistic Regression Precision:\", precision(y_test, log_probs, .7))\n",
        "print(\"UDF Logistic Regression Recall:\", recall(y_test, log_probs, .7))\n",
        "print(\"UDF Logistic Regression F1:\", f1(y_test, log_probs, .7))"
      ],
      "metadata": {
        "colab": {
          "base_uri": "https://localhost:8080/"
        },
        "id": "Ztr75HH5UE4y",
        "outputId": "2cd34586-f6c8-4341-91b4-7bd981965c1b"
      },
      "execution_count": null,
      "outputs": [
        {
          "output_type": "stream",
          "name": "stdout",
          "text": [
            "Cutoff 0.7\n",
            "UDF Logistic Regression Precision: 0.875\n",
            "UDF Logistic Regression Recall: 0.75\n",
            "UDF Logistic Regression F1: 0.8076923076923077\n"
          ]
        }
      ]
    },
    {
      "cell_type": "markdown",
      "source": [
        "## Observations*: \n",
        "1. Overall, the logistic regression is better at classifying true positives and true negatives than the KNN i.e. logistic regression has greater accuracy.\n",
        "2. The accuracy of both the models improve on increasing the probability cutoff.\n",
        "3. The logistic regression has better performance over the KNN in F1 score metric regardless of the probability cutoff.\n",
        "4. Increasing the probability cutoff leads to a decrease in the recall of both the models. \n",
        "5. The precision increases on increasing the probability cutoff, thereby justifying the precision-recall tradeoff. \n",
        "\n",
        "\\* Since the model has high variance, the results may differ on re-running the notebook."
      ],
      "metadata": {
        "id": "vtcO_btDjWEp"
      }
    },
    {
      "cell_type": "markdown",
      "source": [
        "### b) Use np.linspace(0.1,0.9,10) for the probability cutoff to build the ROC curves for KNN and logistic regression.\n",
        "* Talk about your observations. "
      ],
      "metadata": {
        "id": "E13tZnsrMe6N"
      }
    },
    {
      "cell_type": "code",
      "source": [
        "tpr_log = []\n",
        "fpr_log = []\n",
        "\n",
        "tpr_knn = []\n",
        "fpr_knn = []\n",
        "\n",
        "cut_offs = np.linspace(0.1, 0.9, 10)\n",
        "\n",
        "for i in range(len(cut_offs)):\n",
        "  tpr_log.append(recall(y_test, log_probs, cut_offs[i]))\n",
        "  fpr_log.append(1-specificity(y_test, log_probs, cut_offs[i]))\n",
        "\n",
        "  tpr_knn.append(recall(y_test, knn_probs, cut_offs[i]))\n",
        "  fpr_knn.append(1-specificity(y_test, knn_probs, cut_offs[i]))"
      ],
      "metadata": {
        "id": "NGYxgSxHWmUy"
      },
      "execution_count": null,
      "outputs": []
    },
    {
      "cell_type": "code",
      "source": [
        "plt.figure(figsize=(8, 6))\n",
        "plt.plot(fpr_log, tpr_log, label='logistic model')\n",
        "plt.plot(fpr_knn, tpr_knn, label='KNN')\n",
        "plt.xlabel('False Positive Rate')\n",
        "plt.ylabel('True Positive Rate')\n",
        "plt.legend()\n",
        "plt.title('ROC Curve');"
      ],
      "metadata": {
        "id": "9uhlJr2WMdgG",
        "colab": {
          "base_uri": "https://localhost:8080/",
          "height": 404
        },
        "outputId": "7f694fa0-85b0-4858-c743-93541861593d"
      },
      "execution_count": null,
      "outputs": [
        {
          "output_type": "display_data",
          "data": {
            "text/plain": [
              "<Figure size 576x432 with 1 Axes>"
            ],
            "image/png": "[encoded data removed]"
          },
          "metadata": {
            "needs_background": "light"
          }
        }
      ]
    },
    {
      "cell_type": "markdown",
      "source": [
        "## Observations*: \n",
        "1. The models are above the $45^{o}$ line implying that they perform better than a random guess.\n",
        "2. Among the two, the logistic model performs slightly better than KNN.\n",
        "\n",
        "\n",
        "\\* Since the model has high variance, the results may differ on re-running the notebook."
      ],
      "metadata": {
        "id": "WUspYvOGE7E7"
      }
    },
    {
      "cell_type": "markdown",
      "source": [
        "## 5) Real life decision. (30 pts)\n",
        "For each of the following cases, search for the optimal model and optimal probability cutoff; or suggest the hospital to stop the program. \n",
        "\n",
        "Your analysis should only utilize part 4) and numbers provided in the cases above.\n"
      ],
      "metadata": {
        "id": "3xEJm7-sliMd"
      }
    },
    {
      "cell_type": "markdown",
      "source": [
        "**bold text**\n",
        "\n",
        "expected_profit = precision * $profit$ + fpr * $loss_{1}$ + fnr * $loss_{2}$\n",
        "\n",
        "\n",
        "$profit$ = profit associated with correctly identifying a patient as being a heart patient. Here, it is $20k.\n",
        "\n",
        "\n",
        "$loss_{1}$ = loss associated with mistakenly identifying a patient as positive. Here, it is $20k.\n",
        "\n",
        "$loss_{2}$ = loss associated with NOT being able to identify a patient positive, when in fact he/she is a heart patient. Here, it is $100k.\n",
        "\n",
        "precision = It is the ratio of positives correctly identified as positives.\n",
        "\n",
        "\n",
        "fpr = 1 - specificty\\\n",
        "     False positive rate is the ratio of the negative instances that were incorrectly classified as positive.\n",
        "\n",
        "\n",
        "fnr = 1 - recall\\\n",
        "False negative rate, also called the miss rate, is the ratio of the positive instances incorrectly identified as negative.\n",
        "\n",
        "\n"
      ],
      "metadata": {
        "id": "HeW11nJDliWn"
      }
    },
    {
      "cell_type": "code",
      "source": [
        "def exp_pro(tp_profit, fp_loss, fn_loss, precision, recall, specificity):\n",
        "\n",
        "  exp_value = tp_profit * precision - fp_loss * (1- specificity) - fn_loss * (1 - recall)\n",
        "\n",
        "  return exp_value"
      ],
      "metadata": {
        "id": "EKILeL37Y_ht"
      },
      "execution_count": null,
      "outputs": []
    },
    {
      "cell_type": "markdown",
      "source": [
        "### Case 1. Correctly identifying a patient earns the hospital 20k. Sending a false positive alarm costs the hospital $20k, while not sending correct verdicts to patients with heart conditions hurts the hospital's long term profitability of 100k. "
      ],
      "metadata": {
        "id": "bK17v6HtY_ky"
      }
    },
    {
      "cell_type": "markdown",
      "source": [
        "#### Logistic Regression Model"
      ],
      "metadata": {
        "id": "a4yOH_McjXE1"
      }
    },
    {
      "cell_type": "code",
      "source": [
        "exp_prof = {}\n",
        "cut_offs = np.linspace(0.1, 0.9, 10)\n",
        "\n",
        "for i in range(len(cut_offs)):\n",
        "  pre = precision(y_test, log_probs, cut_offs[i])\n",
        "  rec = recall(y_test, log_probs, cut_offs[i])\n",
        "  spec = specificity(y_test, log_probs, cut_offs[i])  \n",
        "\n",
        "  exp_prof[cut_offs[i]] = exp_pro(20, 20, 100, pre, rec, spec)"
      ],
      "metadata": {
        "id": "P1j2wf_3jF6a"
      },
      "execution_count": null,
      "outputs": []
    },
    {
      "cell_type": "code",
      "source": [
        "exp_prof"
      ],
      "metadata": {
        "colab": {
          "base_uri": "https://localhost:8080/"
        },
        "id": "CYuUOpbKjkKY",
        "outputId": "4cf33efa-67da-41b9-e7cb-ea26aab24616"
      },
      "execution_count": null,
      "outputs": [
        {
          "output_type": "execute_result",
          "data": {
            "text/plain": [
              "{0.1: 1.2648221343873534,\n",
              " 0.18888888888888888: -2.627705627705624,\n",
              " 0.2777777777777778: -5.1948051948051965,\n",
              " 0.3666666666666667: -4.134199134199138,\n",
              " 0.4555555555555556: -3.0442675603965963,\n",
              " 0.5444444444444445: -8.162578162578166,\n",
              " 0.6333333333333333: -6.929736929736931,\n",
              " 0.7222222222222222: -9.318181818181818,\n",
              " 0.8111111111111111: -6.515151515151512,\n",
              " 0.9: -21.002886002886008}"
            ]
          },
          "metadata": {},
          "execution_count": 50
        }
      ]
    },
    {
      "cell_type": "markdown",
      "source": [
        "#### KNN Model "
      ],
      "metadata": {
        "id": "4uCDJ_aejaLR"
      }
    },
    {
      "cell_type": "code",
      "source": [
        "exp_prof = {}\n",
        "cut_offs = np.linspace(0.1, 0.9, 10)\n",
        "\n",
        "for i in range(len(cut_offs)):\n",
        "  pre = precision(y_test, knn_probs, cut_offs[i])\n",
        "  rec = recall(y_test, knn_probs, cut_offs[i])  \n",
        "  spec = specificity(y_test, log_probs, cut_offs[i])  \n",
        "\n",
        "  exp_prof[cut_offs[i]] = exp_pro(20, 20, 100, pre, rec, spec)"
      ],
      "metadata": {
        "id": "-CJ2VQRDjZjs"
      },
      "execution_count": null,
      "outputs": []
    },
    {
      "cell_type": "code",
      "source": [
        "exp_prof"
      ],
      "metadata": {
        "colab": {
          "base_uri": "https://localhost:8080/"
        },
        "id": "3L8kL6G-j-lP",
        "outputId": "db6321aa-1254-4f77-b853-67317e3a05de"
      },
      "execution_count": null,
      "outputs": [
        {
          "output_type": "execute_result",
          "data": {
            "text/plain": [
              "{0.1: 0.7575757575757596,\n",
              " 0.18888888888888888: 4.538407329105006,\n",
              " 0.2777777777777778: 0.4025974025974062,\n",
              " 0.3666666666666667: -2.0492570492570454,\n",
              " 0.4555555555555556: -8.160173160173162,\n",
              " 0.5444444444444445: -6.948051948051949,\n",
              " 0.6333333333333333: -4.419316315868043,\n",
              " 0.7222222222222222: -12.20779220779221,\n",
              " 0.8111111111111111: -25.685425685425688,\n",
              " 0.9: -36.844155844155836}"
            ]
          },
          "metadata": {},
          "execution_count": 52
        }
      ]
    },
    {
      "cell_type": "markdown",
      "source": [
        "\n",
        "Here, the hospital expects to make money under stringent probability cut offs according to the Logistic Regression model, while the KNN is more generous in the allowance of the probability cutoff."
      ],
      "metadata": {
        "id": "Y40V9DJEj3P8"
      }
    },
    {
      "cell_type": "markdown",
      "source": [
        "### Case 2. Ceteris paribus to Case 1, what if the lawmaker increased the penalty of false positive alarm to 200k?"
      ],
      "metadata": {
        "id": "kuIuA7TgjF9O"
      }
    },
    {
      "cell_type": "markdown",
      "source": [
        "#### Logistic Regression Model"
      ],
      "metadata": {
        "id": "Z4g98CWSjGAo"
      }
    },
    {
      "cell_type": "code",
      "source": [
        "exp_prof = {}\n",
        "cut_offs = np.linspace(0.1, 0.9, 10)\n",
        "\n",
        "for i in range(len(cut_offs)):\n",
        "  pre = precision(y_test, log_probs, cut_offs[i])\n",
        "  rec = recall(y_test, log_probs, cut_offs[i])  \n",
        "  spec = specificity(y_test, log_probs, cut_offs[i])  \n",
        "\n",
        "  exp_prof[cut_offs[i]] = exp_pro(20, 20, 200, pre, rec, spec)"
      ],
      "metadata": {
        "id": "mqzZD8Uakgy0"
      },
      "execution_count": null,
      "outputs": []
    },
    {
      "cell_type": "code",
      "source": [
        "exp_prof"
      ],
      "metadata": {
        "colab": {
          "base_uri": "https://localhost:8080/"
        },
        "id": "d_CAQxo7ktOp",
        "outputId": "12c82dc4-cfc2-4534-e8e3-7d0fe680e6f2"
      },
      "execution_count": null,
      "outputs": [
        {
          "output_type": "execute_result",
          "data": {
            "text/plain": [
              "{0.1: 1.2648221343873534,\n",
              " 0.18888888888888888: -9.770562770562764,\n",
              " 0.2777777777777778: -19.480519480519487,\n",
              " 0.3666666666666667: -18.419913419913428,\n",
              " 0.4555555555555556: -17.329981846110886,\n",
              " 0.5444444444444445: -29.591149591149595,\n",
              " 0.6333333333333333: -28.358308358308363,\n",
              " 0.7222222222222222: -34.31818181818182,\n",
              " 0.8111111111111111: -31.515151515151512,\n",
              " 0.9: -60.2886002886003}"
            ]
          },
          "metadata": {},
          "execution_count": 54
        }
      ]
    },
    {
      "cell_type": "markdown",
      "source": [
        "#### KNN Model"
      ],
      "metadata": {
        "id": "V7lPXJ8dkg_1"
      }
    },
    {
      "cell_type": "code",
      "source": [
        "exp_prof = {}\n",
        "cut_offs = np.linspace(0.1, 0.9, 10)\n",
        "\n",
        "for i in range(len(cut_offs)):\n",
        "  pre = precision(y_test, knn_probs, cut_offs[i])\n",
        "  rec = recall(y_test, knn_probs, cut_offs[i])  \n",
        "  spec = specificity(y_test, log_probs, cut_offs[i])  \n",
        "\n",
        "  exp_prof[cut_offs[i]] = exp_pro(20, 20, 200, pre, rec, spec)"
      ],
      "metadata": {
        "id": "_EUyBFbtkjMv"
      },
      "execution_count": null,
      "outputs": []
    },
    {
      "cell_type": "code",
      "source": [
        "exp_prof"
      ],
      "metadata": {
        "colab": {
          "base_uri": "https://localhost:8080/"
        },
        "id": "c8d9zrjmk5fT",
        "outputId": "1bb45159-5fb8-46fe-cd48-d585a794179a"
      },
      "execution_count": null,
      "outputs": [
        {
          "output_type": "execute_result",
          "data": {
            "text/plain": [
              "{0.1: 0.7575757575757596,\n",
              " 0.18888888888888888: 4.538407329105006,\n",
              " 0.2777777777777778: -6.7402597402597335,\n",
              " 0.3666666666666667: -12.763542763542755,\n",
              " 0.4555555555555556: -26.017316017316023,\n",
              " 0.5444444444444445: -24.80519480519481,\n",
              " 0.6333333333333333: -22.276459173010906,\n",
              " 0.7222222222222222: -40.77922077922078,\n",
              " 0.8111111111111111: -68.54256854256855,\n",
              " 0.9: -90.4155844155844}"
            ]
          },
          "metadata": {},
          "execution_count": 56
        }
      ]
    },
    {
      "cell_type": "markdown",
      "source": [
        "Even if the lawmakers raise the penalty, hospital can expect to make money. \\\n",
        "The story is similar to the above case, as logistic regression is more conservative in choosing the probability cutoffs. "
      ],
      "metadata": {
        "id": "x8TKk5ABkwCy"
      }
    }
  ]
}